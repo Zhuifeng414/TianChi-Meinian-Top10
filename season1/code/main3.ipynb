{
 "cells": [
  {
   "cell_type": "markdown",
   "metadata": {},
   "source": [
    "# 读取main1.py和main2.ipynb生成的结果文件并融合"
   ]
  },
  {
   "cell_type": "code",
   "execution_count": null,
   "metadata": {},
   "outputs": [],
   "source": [
    "import pandas as pd\n",
    "import datetime\n",
    "\n",
    "model_result1 = pd.read_csv('../data/model1_result.csv')\n",
    "model_result2 = pd.read_csv('../data/model2_result.csv')\n",
    "\n",
    "w1 = 0.5\n",
    "w2 = 0.5\n",
    "\n",
    "sub_final = pd.DataFrame()\n",
    "sub_final['vid'] = model_result1['vid']\n",
    "\n",
    "pre_cols = ['收缩压','舒张压','血清甘油三酯','血清高密度脂蛋白','血清低密度脂蛋白']\n",
    "\n",
    "for i in pre_cols:\n",
    "    sub_final[i] = w1 * model_result1[i] + w2 * model_result2[i]\n",
    "    # 模型1'血清甘油三酯'大于5的值直接使用，不融合\n",
    "    if i == '血清甘油三酯':\n",
    "        idx = model_result1[model_result1['血清甘油三酯']>5].index.values\n",
    "        sub_final.loc[idx, '血清甘油三酯'] = model_result1.loc[idx, '血清甘油三酯']\n",
    "\n",
    "nowTime = datetime.datetime.now().strftime('%Y%m%d_%H%M%S')\n",
    "sub_final.to_csv('../submit/submit'+'_'+nowTime+'.csv', index=False, header=False)"
   ]
  }
 ],
 "metadata": {
  "kernelspec": {
   "display_name": "Python 3",
   "language": "python",
   "name": "python3"
  },
  "language_info": {
   "codemirror_mode": {
    "name": "ipython",
    "version": 3
   },
   "file_extension": ".py",
   "mimetype": "text/x-python",
   "name": "python",
   "nbconvert_exporter": "python",
   "pygments_lexer": "ipython3",
   "version": "3.6.4"
  }
 },
 "nbformat": 4,
 "nbformat_minor": 2
}
